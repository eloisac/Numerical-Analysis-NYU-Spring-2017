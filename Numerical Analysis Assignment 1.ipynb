{
 "cells": [
  {
   "cell_type": "markdown",
   "metadata": {},
   "source": [
    "# Numerical Analysis: Assignment 1"
   ]
  },
  {
   "cell_type": "code",
   "execution_count": 24,
   "metadata": {
    "collapsed": true
   },
   "outputs": [],
   "source": [
    "import numpy as np\n",
    "from numpy.polynomial.polynomial import Polynomial\n",
    "import matplotlib.pyplot as plt"
   ]
  },
  {
   "cell_type": "markdown",
   "metadata": {},
   "source": [
    "#### We attempt to find all solutions to $f(x) = 0$ where $f(x) = e^x − 3x − 1$\n",
    "####         a) Sketch $y = f(x)$ for $−1 ≤ x ≤ 3$. How many solutions does $f(x) = 0$ have?"
   ]
  },
  {
   "cell_type": "code",
   "execution_count": 25,
   "metadata": {
    "collapsed": true
   },
   "outputs": [],
   "source": [
    "def f(x):\n",
    "    return np.exp(x) - 3*x - 1\n",
    "\n",
    "def find_solns():\n",
    "    #Sketch of y on x interval\n",
    "    x = np.arange(-1, 3, .01)\n",
    "    fig, ax = plt.subplots()\n",
    "    ax.plot(x, f(x))\n",
    "    ax.axhline(y=0, color='k')\n",
    "    ax.axvline(x=0, color='k')\n",
    "    plt.show()"
   ]
  },
  {
   "cell_type": "code",
   "execution_count": 26,
   "metadata": {
    "scrolled": true
   },
   "outputs": [
    {
     "data": {
      "image/png": "[encoded data removed]",
      "text/plain": [
       "<matplotlib.figure.Figure at 0x119b962b0>"
      ]
     },
     "metadata": {},
     "output_type": "display_data"
    }
   ],
   "source": [
    "a()"
   ]
  },
  {
   "cell_type": "markdown",
   "metadata": {},
   "source": [
    "#### b) Write code to implement the bisection method. Using the initial interval $[1, 3]$, write down the sequence of approximations $x_1, x_2, x_3, x_4, x_5$ produced from your code."
   ]
  },
  {
   "cell_type": "markdown",
   "metadata": {},
   "source": [
    "### Bisection Method \n",
    "#### The bisection method is a root-finding method that repeatedly bisects an interval and then selects a subinterval in which a  root must lie for further processing."
   ]
  },
  {
   "cell_type": "code",
   "execution_count": 41,
   "metadata": {
    "collapsed": true
   },
   "outputs": [],
   "source": [
    "def bisection(a, b, f, arr=False, ntrials=5):\n",
    "    x = []\n",
    "    fa = f(a)\n",
    "    fb = f(b)\n",
    "    for i in range(ntrials):\n",
    "        c = (a + b)/2\n",
    "        fc = f(c)\n",
    "        x.append(c)\n",
    "        if(fc*fb > 0):\n",
    "            b = c\n",
    "        elif(fc*fb < 0):\n",
    "            a = c\n",
    "        else:\n",
    "            a = b = c\n",
    "    if(arr):\n",
    "        return x\n",
    "    return x[-1]"
   ]
  },
  {
   "cell_type": "code",
   "execution_count": 44,
   "metadata": {
    "scrolled": true
   },
   "outputs": [
    {
     "data": {
      "text/plain": [
       "[2.0, 1.5, 1.75, 1.875, 1.9375]"
      ]
     },
     "execution_count": 44,
     "metadata": {},
     "output_type": "execute_result"
    }
   ],
   "source": [
    "bisect(1, 3, f, arr = True)\n"
   ]
  },
  {
   "cell_type": "markdown",
   "metadata": {},
   "source": [
    "#### c) We now look at the fixed point problem $x = g(x)$ with $g(x) = ln(3x+ 1)$. Show that this is equivalent to finding the roots of $f$."
   ]
  },
  {
   "cell_type": "markdown",
   "metadata": {},
   "source": [
    "\\begin{equation*}x = ln(3x+1) \\to e^x = e^{ln(3x+1)} \\to e^x = 3x+1 \\to e^x - 3x + 1 = 0\\end{equation*}"
   ]
  },
  {
   "cell_type": "markdown",
   "metadata": {},
   "source": [
    "#### d) Implement the fixed point iteration method for $x = g(x)$ given above. Using the initial point $x0 = 1$, write down the iterates $x1, x2, x3, x4, x5$."
   ]
  },
  {
   "cell_type": "code",
   "execution_count": 62,
   "metadata": {
    "collapsed": true
   },
   "outputs": [],
   "source": [
    "def fixedpoint(x0, g, arr=False, ntrials=5):\n",
    "    x = []\n",
    "    currpoint = x0\n",
    "    for i in range(ntrials):\n",
    "        currpoint = g(currpoint)\n",
    "        x.append(currpoint)\n",
    "    if(arr):\n",
    "        return x\n",
    "    return x[-1]"
   ]
  },
  {
   "cell_type": "code",
   "execution_count": 63,
   "metadata": {
    "collapsed": true
   },
   "outputs": [],
   "source": [
    "#intuition: f(x)= x + g(x)\n",
    "def g(x):\n",
    "        return np.log(3*x + 1)"
   ]
  },
  {
   "cell_type": "code",
   "execution_count": 64,
   "metadata": {
    "collapsed": true
   },
   "outputs": [],
   "source": [
    "def fix_pt_prob():\n",
    "    res = fixedpoint(1, g, arr=True)\n",
    "    print(res)"
   ]
  },
  {
   "cell_type": "code",
   "execution_count": 65,
   "metadata": {},
   "outputs": [
    {
     "name": "stdout",
     "output_type": "stream",
     "text": [
      "[1.3862943611198906, 1.6407200993500939, 1.778701297541748, 1.846264051572333, 1.8777524625894917]\n"
     ]
    }
   ],
   "source": [
    "fix_pt_prob()"
   ]
  }
 ],
 "metadata": {
  "kernelspec": {
   "display_name": "Python 3",
   "language": "python",
   "name": "python3"
  },
  "language_info": {
   "codemirror_mode": {
    "name": "ipython",
    "version": 3
   },
   "file_extension": ".py",
   "mimetype": "text/x-python",
   "name": "python",
   "nbconvert_exporter": "python",
   "pygments_lexer": "ipython3",
   "version": "3.6.2"
  }
 },
 "nbformat": 4,
 "nbformat_minor": 2
}
